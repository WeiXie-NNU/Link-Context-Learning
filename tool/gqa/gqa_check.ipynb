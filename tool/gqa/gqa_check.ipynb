{
 "cells": [
  {
   "cell_type": "code",
   "execution_count": 1,
   "id": "38e48e11-53cc-45e0-b9bd-f20256421216",
   "metadata": {},
   "outputs": [],
   "source": [
    "%load_ext autoreload\n",
    "%autoreload 2"
   ]
  },
  {
   "cell_type": "code",
   "execution_count": 2,
   "id": "403ad0f9-7823-4117-bac2-ba86cb31f9bb",
   "metadata": {},
   "outputs": [],
   "source": [
    "import json\n",
    "question = json.load(open(r\"D:\\home\\dataset\\GQA\\questions1.2\\train_balanced_questions.json\", 'r'))\n",
    "scene = json.load(open(r\"D:\\home\\dataset\\GQA\\sceneGraphs\\train_sceneGraphs.json\", 'r'))"
   ]
  },
  {
   "cell_type": "code",
   "execution_count": 3,
   "id": "5d625729-2323-4e6f-8d95-a27f87b66fdb",
   "metadata": {},
   "outputs": [],
   "source": [
    "import sys\n",
    "sys.path.append('tool/gqa')"
   ]
  },
  {
   "cell_type": "code",
   "execution_count": 4,
   "id": "0ad40855-4627-4606-8de7-e37a26017a41",
   "metadata": {},
   "outputs": [
    {
     "data": {
      "text/plain": [
       "{'choose', 'compare', 'logical', 'query', 'verify'}"
      ]
     },
     "execution_count": 4,
     "metadata": {},
     "output_type": "execute_result"
    }
   ],
   "source": [
    "allqt = set()\n",
    "for q in question.values():\n",
    "    allqt.add(q['types']['structural'])\n",
    "allqt"
   ]
  },
  {
   "cell_type": "code",
   "execution_count": 6,
   "id": "77f8de4f-890e-458c-bb1e-968b60cdf2f2",
   "metadata": {},
   "outputs": [
    {
     "name": "stderr",
     "output_type": "stream",
     "text": [
      "100%|██████████████████████████████████████████████████████████████████████████████████████████████████████████████████████████████████| 943000/943000 [00:25<00:00, 37281.45it/s]\n"
     ]
    }
   ],
   "source": [
    "from gqa_to_cot import GQA2CoT\n",
    "from tqdm import tqdm\n",
    "\n",
    "for k, q in tqdm(question.items()):\n",
    "    s = scene[q['imageId']]\n",
    "    try:\n",
    "        gqa2cot = GQA2CoT(q, s)\n",
    "        res = gqa2cot()\n",
    "        # print(f\"****: {gqa2cot.res}\")\n",
    "        # print(q['question'])\n",
    "        # print(res)\n",
    "        # print(gqa2cot.boxes_list)\n",
    "        # print(gqa2cot.boxes_seq)\n",
    "        # print()\n",
    "    except Exception as e:\n",
    "        print(e)\n",
    "        print(q)\n",
    "        print(s)\n",
    "        break"
   ]
  },
  {
   "cell_type": "code",
   "execution_count": null,
   "id": "82da6aa9-7560-495b-92c7-6e943c5ed543",
   "metadata": {},
   "outputs": [],
   "source": []
  }
 ],
 "metadata": {
  "kernelspec": {
   "display_name": "Python 3 (ipykernel)",
   "language": "python",
   "name": "python3"
  },
  "language_info": {
   "codemirror_mode": {
    "name": "ipython",
    "version": 3
   },
   "file_extension": ".py",
   "mimetype": "text/x-python",
   "name": "python",
   "nbconvert_exporter": "python",
   "pygments_lexer": "ipython3",
   "version": "3.9.16"
  }
 },
 "nbformat": 4,
 "nbformat_minor": 5
}
